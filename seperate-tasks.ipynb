{
 "cells": [
  {
   "cell_type": "code",
   "execution_count": 2,
   "metadata": {},
   "outputs": [],
   "source": [
    "import glob\n",
    "import matplotlib.pyplot as plt\n",
    "import mne\n",
    "import numpy as np\n",
    "import pyxdf"
   ]
  },
  {
   "cell_type": "code",
   "execution_count": 3,
   "metadata": {},
   "outputs": [
    {
     "name": "stdout",
     "output_type": "stream",
     "text": [
      "data/gme2022/sub-Tobias/ses-S001/eeg/sub-Tobias_ses-S001_task-Default_run-001_eeg.xdf\n"
     ]
    }
   ],
   "source": [
    "# load baseline file names\n",
    "baseline_list = []\n",
    "path = 'data/**/*S001*.xdf'\n",
    "for file in glob.glob(path, recursive=True):\n",
    "    baseline_list.append(file)\n",
    "print(baseline_list[0])"
   ]
  },
  {
   "cell_type": "code",
   "execution_count": 4,
   "metadata": {},
   "outputs": [
    {
     "name": "stdout",
     "output_type": "stream",
     "text": [
      "data/gme2022/sub-Tobias/ses-S002/eeg/sub-Tobias_ses-S002_task-Default_run-001_eeg.xdf\n"
     ]
    }
   ],
   "source": [
    "# load experiment file names\n",
    "experiment_list = []\n",
    "path = 'data/**/*S002*.xdf'\n",
    "for file in glob.glob(path, recursive=True):\n",
    "    experiment_list.append(file)\n",
    "print(experiment_list[0])\n"
   ]
  },
  {
   "cell_type": "code",
   "execution_count": 5,
   "metadata": {},
   "outputs": [
    {
     "name": "stdout",
     "output_type": "stream",
     "text": [
      "Creating RawArray with float64 data, n_channels=8, n_times=17025\n",
      "    Range : 0 ... 17024 =      0.000 ...    68.096 secs\n",
      "Ready.\n",
      "the (cropped) sample data object has 17025 time samples and 8 channels.\n",
      "The last time sample is at 68.096 seconds.\n",
      "The first few channel names are 0, 1, 2.\n",
      "\n",
      "bad channels: []\n",
      "250.0 Hz\n",
      "None \n",
      "\n",
      "<Info | 7 non-empty values\n",
      " bads: []\n",
      " ch_names: 0, 1, 2, 3, 4, 5, 6, 7\n",
      " chs: 8 EEG\n",
      " custom_ref_applied: False\n",
      " highpass: 0.0 Hz\n",
      " lowpass: 125.0 Hz\n",
      " meas_date: unspecified\n",
      " nchan: 8\n",
      " projs: []\n",
      " sfreq: 250.0 Hz\n",
      ">\n"
     ]
    }
   ],
   "source": [
    "# showcase data content (freq, etc.)\n",
    "streams, _ = pyxdf.load_xdf(baseline_list[0])\n",
    "data = streams[1][\"time_series\"].T[:8]\n",
    "stamps = streams[1][\"time_stamps\"][:8]\n",
    "sfreq = float(streams[1][\"info\"][\"nominal_srate\"][0])\n",
    "info = mne.create_info(8, sfreq, [\"eeg\"] * 8)\n",
    "raw = mne.io.RawArray(data, info)\n",
    "n_time_samps = raw.n_times\n",
    "time_secs = raw.times\n",
    "ch_names = raw.ch_names\n",
    "n_chan = len(ch_names)  # note: there is no raw.n_channels attribute\n",
    "print('the (cropped) sample data object has {} time samples and {} channels.'\n",
    "    ''.format(n_time_samps, n_chan))\n",
    "print('The last time sample is at {} seconds.'.format(time_secs[-1]))\n",
    "print('The first few channel names are {}.'.format(', '.join(ch_names[:3])))\n",
    "print()  # insert a blank line in the output\n",
    "\n",
    "# some examples of raw.info:\n",
    "print('bad channels:', raw.info['bads'])  # chs marked \"bad\" during acquisition\n",
    "print(raw.info['sfreq'], 'Hz')            # sampling frequency\n",
    "print(raw.info['description'], '\\n')      # miscellaneous acquisition info\n",
    "\n",
    "print(raw.info)"
   ]
  },
  {
   "cell_type": "code",
   "execution_count": 6,
   "metadata": {},
   "outputs": [
    {
     "name": "stdout",
     "output_type": "stream",
     "text": [
      "Creating RawArray with float64 data, n_channels=8, n_times=17025\n",
      "    Range : 0 ... 17024 =      0.000 ...    68.096 secs\n",
      "Ready.\n",
      "Creating RawArray with float64 data, n_channels=8, n_times=15271\n",
      "    Range : 0 ... 15270 =      0.000 ...    61.080 secs\n",
      "Ready.\n",
      "Creating RawArray with float64 data, n_channels=8, n_times=10391\n",
      "    Range : 0 ... 10390 =      0.000 ...    41.560 secs\n",
      "Ready.\n",
      "Creating RawArray with float64 data, n_channels=8, n_times=10893\n",
      "    Range : 0 ... 10892 =      0.000 ...    43.568 secs\n",
      "Ready.\n"
     ]
    },
    {
     "name": "stderr",
     "output_type": "stream",
     "text": [
      "Stream 3: Calculated effective sampling rate 0.0000 Hz is different from specified rate 250.0000 Hz.\n"
     ]
    },
    {
     "name": "stdout",
     "output_type": "stream",
     "text": [
      "Creating RawArray with float64 data, n_channels=8, n_times=16392\n",
      "    Range : 0 ... 16391 =      0.000 ...    65.564 secs\n",
      "Ready.\n",
      "Creating RawArray with float64 data, n_channels=8, n_times=13529\n",
      "    Range : 0 ... 13528 =      0.000 ...    54.112 secs\n",
      "Ready.\n",
      "Creating RawArray with float64 data, n_channels=8, n_times=15273\n",
      "    Range : 0 ... 15272 =      0.000 ...    61.088 secs\n",
      "Ready.\n"
     ]
    },
    {
     "name": "stderr",
     "output_type": "stream",
     "text": [
      "Stream 1: Calculated effective sampling rate 0.0000 Hz is different from specified rate 250.0000 Hz.\n",
      "Stream 4: Calculated effective sampling rate 0.0000 Hz is different from specified rate 250.0000 Hz.\n"
     ]
    },
    {
     "name": "stdout",
     "output_type": "stream",
     "text": [
      "Creating RawArray with float64 data, n_channels=8, n_times=12646\n",
      "    Range : 0 ... 12645 =      0.000 ...    50.580 secs\n",
      "Ready.\n"
     ]
    },
    {
     "name": "stderr",
     "output_type": "stream",
     "text": [
      "Stream 3: Calculated effective sampling rate 0.0000 Hz is different from specified rate 250.0000 Hz.\n"
     ]
    },
    {
     "name": "stdout",
     "output_type": "stream",
     "text": [
      "Creating RawArray with float64 data, n_channels=8, n_times=15143\n",
      "    Range : 0 ... 15142 =      0.000 ...    60.568 secs\n",
      "Ready.\n",
      "<RawArray | 8 x 10001 (40.0 s), ~638 kB, data loaded>\n"
     ]
    }
   ],
   "source": [
    "# read baseline and cut it to 40 sec\n",
    "sfreq = 250\n",
    "info = mne.create_info(8, sfreq, [\"eeg\"] * 8)\n",
    "\n",
    "baseline_mne_list = []\n",
    "for baseline in baseline_list:\n",
    "    streams, _ = pyxdf.load_xdf(baseline)\n",
    "    try:\n",
    "        data = streams[1][\"time_series\"].T[:8]\n",
    "    except AttributeError:\n",
    "        # some recordings miss the marker channel\n",
    "        data = streams[0][\"time_series\"].T[:8]\n",
    "    raw = mne.io.RawArray(data, info)\n",
    "    raw = raw.crop(tmin=1, tmax=41)\n",
    "    baseline_mne_list.append(raw)\n",
    "\n",
    "print(baseline_mne_list[0])"
   ]
  },
  {
   "cell_type": "code",
   "execution_count": 7,
   "metadata": {},
   "outputs": [
    {
     "name": "stdout",
     "output_type": "stream",
     "text": [
      "data/gme2022/sub-Tobias/ses-S002/eeg/sub-Tobias_ses-S002_task-Default_run-001_eeg.xdf\n",
      "101117.70974713018 101157.71034355162 Starting Cognitive Load Tasks: Balls True, Numbers True, Wheel False\n",
      "101211.09729437983 101251.10414130123 Starting Cognitive Load Tasks: Balls True, Numbers False, Wheel False\n",
      "101297.27641387969 101337.28271760109 Starting Cognitive Load Tasks: Balls True, Numbers True, Wheel True\n",
      "101400.86713255828 101440.87416547969 Starting Cognitive Load Tasks: Balls True, Numbers True, Wheel False\n",
      "101494.4609741065 101534.46757832791 Starting Cognitive Load Tasks: Balls True, Numbers False, Wheel False\n",
      "101581.12291820301 101621.1297237244 Starting Cognitive Load Tasks: Balls True, Numbers True, Wheel True\n",
      "101688.82983475293 101728.83650627433 Starting Cognitive Load Tasks: Balls True, Numbers False, Wheel False\n",
      "101776.62455914155 101816.63162116293 Starting Cognitive Load Tasks: Balls True, Numbers True, Wheel False\n",
      "101875.08408965587 101915.09087207726 Starting Cognitive Load Tasks: Balls True, Numbers True, Wheel True\n",
      "Skip event Starting Simple Eye Tracking Dashboard\n",
      "Skip event Starting Complex Eye Tracking Dashboard\n",
      "Skip event \n",
      "data/gme2022/sub-Karla/ses-S002/eeg/sub-Karla_ses-S002_task-Default_run-001_eeg.xdf\n",
      "84569.75874960629 84609.75859354252 Starting Cognitive Load Tasks: Balls True, Numbers True, Wheel False\n",
      "84658.66317880907 84698.66995634533 Starting Cognitive Load Tasks: Balls True, Numbers False, Wheel False\n",
      "84747.42450011139 84787.43137994764 Starting Cognitive Load Tasks: Balls True, Numbers True, Wheel True\n",
      "84847.01654085056 84887.02347708681 Starting Cognitive Load Tasks: Balls True, Numbers False, Wheel False\n",
      "84935.36179605145 84975.36842598769 Starting Cognitive Load Tasks: Balls True, Numbers True, Wheel False\n",
      "85024.47300815492 85064.47953669117 Starting Cognitive Load Tasks: Balls True, Numbers True, Wheel True\n",
      "85131.74665922028 85171.75318825654 Starting Cognitive Load Tasks: Balls True, Numbers False, Wheel False\n",
      "85219.05847641763 85259.0654278539 Starting Cognitive Load Tasks: Balls True, Numbers True, Wheel False\n",
      "85310.03608262748 85350.04287296374 Starting Cognitive Load Tasks: Balls True, Numbers True, Wheel True\n",
      "Skip event Starting Simple Eye Tracking Dashboard\n",
      "Skip event Starting Complex Eye Tracking Dashboard\n",
      "Skip event \n",
      "data/gme2022/sub-Jonah/ses-S002/eeg/sub-Jonah_ses-S002_task-Default_run-001_eeg.xdf\n",
      "88345.47362717238 88385.47950512216 Starting Cognitive Load Tasks: Balls True, Numbers False, Wheel False\n",
      "88431.70138897967 88471.70833242945 Starting Cognitive Load Tasks: Balls True, Numbers True, Wheel False\n",
      "88528.5942930002 88568.60128844998 Starting Cognitive Load Tasks: Balls True, Numbers True, Wheel True\n",
      "88628.11975362404 88668.1264704738 Starting Cognitive Load Tasks: Balls True, Numbers False, Wheel False\n",
      "88714.48193323147 88754.48900728126 Starting Cognitive Load Tasks: Balls True, Numbers True, Wheel False\n",
      "88806.82582214636 88846.83248489613 Starting Cognitive Load Tasks: Balls True, Numbers True, Wheel True\n",
      "88906.60117827049 88946.60807632026 Starting Cognitive Load Tasks: Balls True, Numbers False, Wheel False\n",
      "88993.19662417822 89033.203939428 Starting Cognitive Load Tasks: Balls True, Numbers True, Wheel False\n",
      "89089.03987439747 89129.04635404723 Starting Cognitive Load Tasks: Balls True, Numbers True, Wheel True\n",
      "Skip event Starting Simple Eye Tracking Dashboard\n",
      "Skip event Starting Complex Eye Tracking Dashboard\n",
      "data/gme2022/sub-Hussam/ses-S002/eeg/sub-Hussam_ses-S002_task-Default_run-001_eeg.xdf\n",
      "86676.83977663904 86716.83987077666 Starting Cognitive Load Tasks: Balls True, Numbers False, Wheel False\n",
      "86765.01147700152 86805.01812963912 Starting Cognitive Load Tasks: Balls True, Numbers True, Wheel False\n",
      "86856.6389516586 86896.64561019621 Starting Cognitive Load Tasks: Balls True, Numbers True, Wheel True\n",
      "86962.57944999338 87002.58620893098 Starting Cognitive Load Tasks: Balls True, Numbers True, Wheel False\n",
      "87056.5562801468 87096.56309648442 Starting Cognitive Load Tasks: Balls True, Numbers False, Wheel False\n",
      "87142.20172551324 87182.20845945083 Starting Cognitive Load Tasks: Balls True, Numbers True, Wheel True\n",
      "87244.47671695371 87284.48351799134 Starting Cognitive Load Tasks: Balls True, Numbers False, Wheel False\n",
      "87330.72252251921 87370.72919005681 Starting Cognitive Load Tasks: Balls True, Numbers True, Wheel False\n",
      "87422.38341787625 87462.39025611385 Starting Cognitive Load Tasks: Balls True, Numbers True, Wheel True\n",
      "Skip event Starting Simple Eye Tracking Dashboard\n",
      "Skip event Starting Complex Eye Tracking Dashboard\n",
      "data/gme2022/sub-Gaffar/ses-S002/eeg/sub-Gaffar_ses-S002_task-Default_run-001_eeg.xdf\n"
     ]
    },
    {
     "name": "stderr",
     "output_type": "stream",
     "text": [
      "Stream 3: Calculated effective sampling rate 0.0000 Hz is different from specified rate 250.0000 Hz.\n"
     ]
    },
    {
     "name": "stdout",
     "output_type": "stream",
     "text": [
      "102572.11898197078 102612.11912452719 Starting Cognitive Load Tasks: Balls True, Numbers True, Wheel False\n",
      "102665.88939626861 102705.89619842502 Starting Cognitive Load Tasks: Balls True, Numbers False, Wheel False\n",
      "102752.48466107425 102792.49142863067 Starting Cognitive Load Tasks: Balls True, Numbers True, Wheel True\n",
      "102852.52675906527 102892.53369022167 Starting Cognitive Load Tasks: Balls True, Numbers True, Wheel False\n",
      "102944.4542208651 102984.4610386215 Starting Cognitive Load Tasks: Balls True, Numbers False, Wheel False\n",
      "103031.49938467027 103071.50617492668 Starting Cognitive Load Tasks: Balls True, Numbers True, Wheel True\n",
      "103133.42404775921 103173.43090001562 Starting Cognitive Load Tasks: Balls True, Numbers True, Wheel False\n",
      "103225.26804735915 103265.27515301555 Starting Cognitive Load Tasks: Balls True, Numbers False, Wheel False\n",
      "103311.38044076532 103351.38718362173 Starting Cognitive Load Tasks: Balls True, Numbers True, Wheel True\n",
      "Skip event Starting Simple Eye Tracking Dashboard\n",
      "Skip event Starting Complex Eye Tracking Dashboard\n",
      "data/gme2022/sub-Christian/ses-S002/eeg/sub-Christian_ses-S002_task-Default_run-001_eeg.xdf\n",
      "83053.03128042641 83093.03177568762 Starting Cognitive Load Tasks: Balls True, Numbers False, Wheel False\n",
      "83139.1037686126 83179.11067187376 Starting Cognitive Load Tasks: Balls True, Numbers True, Wheel False\n",
      "83229.41487677346 83269.42168653462 Starting Cognitive Load Tasks: Balls True, Numbers True, Wheel True\n",
      "83330.29010607126 83370.29684613243 Starting Cognitive Load Tasks: Balls True, Numbers True, Wheel False\n",
      "83419.4681580389 83459.47483360008 Starting Cognitive Load Tasks: Balls True, Numbers False, Wheel False\n",
      "83506.19678582116 83546.20359488232 Starting Cognitive Load Tasks: Balls True, Numbers True, Wheel True\n",
      "83604.9725149315 83644.97926179266 Starting Cognitive Load Tasks: Balls True, Numbers False, Wheel False\n",
      "83693.01778550589 83733.02434606706 Starting Cognitive Load Tasks: Balls True, Numbers True, Wheel False\n",
      "83783.72872046438 83823.73534002555 Starting Cognitive Load Tasks: Balls True, Numbers True, Wheel True\n",
      "Skip event Starting Simple Eye Tracking Dashboard\n",
      "Skip event Starting Complex Eye Tracking Dashboard\n",
      "data/gme2022/sub-Aljoscha/ses-S002/eeg/sub-Aljoscha_ses-S002_task-Default_run-001_eeg.xdf\n",
      "94608.16073683156 94648.1616083246 Starting Cognitive Load Tasks: Balls True, Numbers False, Wheel False\n",
      "94702.09812488039 94742.10494097341 Starting Cognitive Load Tasks: Balls True, Numbers True, Wheel False\n",
      "94793.42574813619 94833.43256492922 Starting Cognitive Load Tasks: Balls True, Numbers True, Wheel True\n",
      "94890.08541857773 94930.09198517076 Starting Cognitive Load Tasks: Balls True, Numbers False, Wheel False\n",
      "94977.64721214361 95017.65380663663 Starting Cognitive Load Tasks: Balls True, Numbers True, Wheel False\n",
      "95072.6403672896 95112.64715128264 Starting Cognitive Load Tasks: Balls True, Numbers True, Wheel True\n",
      "95170.76628032724 95210.77314542026 Starting Cognitive Load Tasks: Balls True, Numbers False, Wheel False\n",
      "95257.44485059546 95297.45168588849 Starting Cognitive Load Tasks: Balls True, Numbers True, Wheel False\n",
      "95347.88991035362 95387.89654744665 Starting Cognitive Load Tasks: Balls True, Numbers True, Wheel True\n",
      "Skip event Starting Simple Eye Tracking Dashboard\n",
      "Skip event Starting Complex Eye Tracking Dashboard\n",
      "data/gme2022/sub-Oskar/ses-S002/eeg/sub-Oskar_ses-S002_task-Default_run-001_eeg_old1.xdf\n"
     ]
    },
    {
     "name": "stderr",
     "output_type": "stream",
     "text": [
      "Stream 1: Calculated effective sampling rate 0.0000 Hz is different from specified rate 250.0000 Hz.\n",
      "Stream 4: Calculated effective sampling rate 0.0000 Hz is different from specified rate 250.0000 Hz.\n"
     ]
    },
    {
     "name": "stdout",
     "output_type": "stream",
     "text": [
      "104247.85696648824 104287.85686471527 Starting Cognitive Load Tasks: Balls True, Numbers True, Wheel False\n",
      "104338.57784554955 104378.58457677659 Starting Cognitive Load Tasks: Balls True, Numbers False, Wheel False\n",
      "104426.12295680871 104466.12952163575 Starting Cognitive Load Tasks: Balls True, Numbers True, Wheel True\n",
      "104528.24781037774 104568.25432980478 Starting Cognitive Load Tasks: Balls True, Numbers True, Wheel False\n",
      "104619.34177713931 104659.34861816635 Starting Cognitive Load Tasks: Balls True, Numbers False, Wheel False\n",
      "104706.3206216981 104746.32724972513 Starting Cognitive Load Tasks: Balls True, Numbers True, Wheel True\n",
      "104799.9807235614 104839.98770708844 Starting Cognitive Load Tasks: Balls True, Numbers False, Wheel False\n",
      "104886.09290591959 104926.09965674665 Starting Cognitive Load Tasks: Balls True, Numbers True, Wheel False\n",
      "104975.1711951798 105015.17780100685 Starting Cognitive Load Tasks: Balls True, Numbers True, Wheel True\n",
      "Skip event Starting Simple Eye Tracking Dashboard\n",
      "Skip event Starting Complex Eye Tracking Dashboard\n",
      "data/gme2022/sub-Timo/ses-S002/eeg/sub-Timo_ses-S002_task-Default_run-001_eeg.xdf\n"
     ]
    },
    {
     "name": "stderr",
     "output_type": "stream",
     "text": [
      "Stream 3: Calculated effective sampling rate 0.0000 Hz is different from specified rate 250.0000 Hz.\n"
     ]
    },
    {
     "name": "stdout",
     "output_type": "stream",
     "text": [
      "96131.81327511564 96171.81979690412 Starting Cognitive Load Tasks: Balls True, Numbers False, Wheel False\n",
      "96217.60865497649 96257.61551626495 Starting Cognitive Load Tasks: Balls True, Numbers True, Wheel False\n",
      "96306.75348622796 96346.76013941645 Starting Cognitive Load Tasks: Balls True, Numbers True, Wheel True\n",
      "96432.32240197793 96472.3291769664 Starting Cognitive Load Tasks: Balls True, Numbers False, Wheel False\n",
      "96518.51785203764 96558.5246451261 Starting Cognitive Load Tasks: Balls True, Numbers True, Wheel False\n",
      "96610.74516668054 96650.75211566902 Starting Cognitive Load Tasks: Balls True, Numbers True, Wheel True\n",
      "96718.4522212803 96758.45884926878 Starting Cognitive Load Tasks: Balls True, Numbers True, Wheel False\n",
      "96809.5297976264 96849.53626471487 Starting Cognitive Load Tasks: Balls True, Numbers False, Wheel False\n",
      "96895.17520358764 96935.18193187611 Starting Cognitive Load Tasks: Balls True, Numbers True, Wheel True\n"
     ]
    }
   ],
   "source": [
    "trails = { \n",
    "          'ball': list(),\n",
    "          'ball+number': list(),\n",
    "          'ball+number+wheel': list(),\n",
    "         }\n",
    "\n",
    "for experiment in experiment_list:\n",
    "    print(experiment)\n",
    "    streams, _ = pyxdf.load_xdf(experiment)\n",
    "    marker = -1 \n",
    "    eeg = -1\n",
    "    for idx, stream in enumerate(streams):\n",
    "        if streams[idx]['time_stamps'].shape[0] == 0:\n",
    "            # ignore empty streams\n",
    "            continue\n",
    "        if stream[\"info\"][\"name\"] == [\"markers\"]:\n",
    "            marker = idx\n",
    "        elif stream[\"info\"][\"name\"] == [\"eeg\"]:\n",
    "            eeg = idx\n",
    "        else:\n",
    "            raise Exception(f\"stream info name unknown {stream['info']['name']}\")\n",
    "\n",
    "    if marker == -1 and eeg == -1:\n",
    "        raise Exception('channels not found')    \n",
    "    \n",
    "    for i in range(0, streams[marker][\"time_stamps\"].shape[0], 2):\n",
    "        event = streams[marker][\"time_series\"][i][0]\n",
    "        if event in ['Starting Complex Eye Tracking Dashboard', 'Starting Simple Eye Tracking Dashboard', '']:\n",
    "            print(f\"Skip event {event}\")\n",
    "            continue\n",
    "        start = streams[marker][\"time_stamps\"][i]\n",
    "        stop = streams[marker][\"time_stamps\"][i+1]\n",
    "        print(start, stop, event)\n",
    "\n",
    "        trial = []\n",
    "        for j, stamp in enumerate(streams[eeg][\"time_stamps\"]):\n",
    "            if start <= stamp and stamp <= stop: \n",
    "                trial.append(streams[eeg][\"time_series\"][j])\n",
    "        \n",
    "        match event:\n",
    "            case 'Starting Cognitive Load Tasks: Balls True, Numbers False, Wheel False':\n",
    "                key = 'ball'\n",
    "            case 'Starting Cognitive Load Tasks: Balls True, Numbers True, Wheel False':\n",
    "                key = 'ball+number'\n",
    "            case 'Starting Cognitive Load Tasks: Balls True, Numbers True, Wheel True':\n",
    "                key = 'ball+number+wheel'\n",
    "            case _:\n",
    "                print(f\"key {event} not defined!\")\n",
    "\n",
    "        trial = np.array(trial)\n",
    "        trails[key].append(trial)\n"
   ]
  },
  {
   "cell_type": "code",
   "execution_count": 8,
   "metadata": {},
   "outputs": [
    {
     "name": "stdout",
     "output_type": "stream",
     "text": [
      "27\n",
      "27\n",
      "27\n"
     ]
    }
   ],
   "source": [
    "print(len(trails[\"ball\"]))\n",
    "print(len(trails[\"ball+number\"]))\n",
    "print(len(trails[\"ball+number+wheel\"]))"
   ]
  },
  {
   "cell_type": "code",
   "execution_count": 9,
   "metadata": {},
   "outputs": [
    {
     "data": {
      "text/plain": [
       "array([[2.1589434e+05, 1.9823003e+05, 3.0944741e+05, ..., 1.0000000e+02,\n",
       "        6.6382000e+04, 1.0000000e+00],\n",
       "       [2.1582362e+05, 1.9802189e+05, 3.0912653e+05, ..., 1.0000000e+02,\n",
       "        6.6383000e+04, 1.0000000e+00],\n",
       "       [2.1586002e+05, 1.9805309e+05, 3.0910319e+05, ..., 1.0000000e+02,\n",
       "        6.6384000e+04, 1.0000000e+00],\n",
       "       ...,\n",
       "       [2.1585823e+05, 1.9805300e+05, 3.0392000e+05, ..., 1.0000000e+02,\n",
       "        7.6392000e+04, 1.0000000e+00],\n",
       "       [2.1588997e+05, 1.9820142e+05, 3.0417712e+05, ..., 1.0000000e+02,\n",
       "        7.6393000e+04, 1.0000000e+00],\n",
       "       [2.1584088e+05, 1.9810781e+05, 3.0410141e+05, ..., 1.0000000e+02,\n",
       "        7.6394000e+04, 1.0000000e+00]], dtype=float32)"
      ]
     },
     "execution_count": 9,
     "metadata": {},
     "output_type": "execute_result"
    }
   ],
   "source": [
    "trails[\"ball\"][0]"
   ]
  }
 ],
 "metadata": {
  "kernelspec": {
   "display_name": "Python 3 (ipykernel)",
   "language": "python",
   "name": "python3"
  },
  "language_info": {
   "codemirror_mode": {
    "name": "ipython",
    "version": 3
   },
   "file_extension": ".py",
   "mimetype": "text/x-python",
   "name": "python",
   "nbconvert_exporter": "python",
   "pygments_lexer": "ipython3",
   "version": "3.10.7"
  },
  "vscode": {
   "interpreter": {
    "hash": "e7370f93d1d0cde622a1f8e1c04877d8463912d04d973331ad4851f04de6915a"
   }
  }
 },
 "nbformat": 4,
 "nbformat_minor": 2
}
