{
 "cells": [
  {
   "cell_type": "code",
   "execution_count": 9,
   "id": "85e75822",
   "metadata": {},
   "outputs": [],
   "source": [
    "import pyxdf\n",
    "import xdf_utils"
   ]
  },
  {
   "cell_type": "code",
   "execution_count": 20,
   "id": "6036cf57",
   "metadata": {},
   "outputs": [
    {
     "name": "stderr",
     "output_type": "stream",
     "text": [
      "Stream 3: Calculated effective sampling rate 0.0000 Hz is different from specified rate 250.0000 Hz.\n"
     ]
    }
   ],
   "source": [
    "data, header = pyxdf.load_xdf('data/gme2022/sub-Gaffar/ses-S001/eeg/sub-Gaffar_ses-S001_task-Default_run-001_eeg.xdf')\n",
    "data, header = pyxdf.load_xdf('data/gme2022/sub-Karla/ses-S002/eeg/sub-Karla_ses-S002_task-Default_run-001_eeg.xdf')"
   ]
  },
  {
   "cell_type": "code",
   "execution_count": 21,
   "id": "58d19103",
   "metadata": {},
   "outputs": [],
   "source": [
    "eeg, ts, channels = xdf_utils.load_stream_data(data, stream_name='eeg') # channels will be empty\n",
    "# 0-7 = EEG, 8-10 = Accelerometer, 11-13 = Gyroscope, 14 = Counter, 15 = Battery, 16 = Valid"
   ]
  },
  {
   "cell_type": "code",
   "execution_count": 22,
   "id": "05e6aba6",
   "metadata": {},
   "outputs": [
    {
     "name": "stdout",
     "output_type": "stream",
     "text": [
      "[[2.0294152e+05 3.3760819e+05 7.0407444e+05 ... 8.6666672e+01\n",
      "  2.7551000e+04 1.0000000e+00]\n",
      " [2.0314750e+05 3.3845531e+05 7.0455600e+05 ... 8.6666672e+01\n",
      "  2.7552000e+04 1.0000000e+00]\n",
      " [2.0279050e+05 3.3806200e+05 7.0408962e+05 ... 8.6666672e+01\n",
      "  2.7553000e+04 1.0000000e+00]\n",
      " ...\n",
      " [2.0809198e+05 2.0952330e+05 6.8588681e+05 ... 8.6666672e+01\n",
      "  2.5634800e+05 1.0000000e+00]\n",
      " [2.0794438e+05 2.0893938e+05 6.8566875e+05 ... 8.6666672e+01\n",
      "  2.5634900e+05 1.0000000e+00]\n",
      " [2.0817352e+05 2.0912883e+05 6.8588062e+05 ... 8.6666672e+01\n",
      "  2.5635000e+05 1.0000000e+00]] [84557.92079867 84557.92479348 84557.92878829 ... 85471.92117746\n",
      " 85471.92517227 85471.92916708] []\n"
     ]
    }
   ],
   "source": [
    "print(eeg, ts, channels)"
   ]
  }
 ],
 "metadata": {
  "kernelspec": {
   "display_name": "Python 3.10.7 64-bit",
   "language": "python",
   "name": "python3"
  },
  "language_info": {
   "codemirror_mode": {
    "name": "ipython",
    "version": 3
   },
   "file_extension": ".py",
   "mimetype": "text/x-python",
   "name": "python",
   "nbconvert_exporter": "python",
   "pygments_lexer": "ipython3",
   "version": "3.10.7"
  },
  "vscode": {
   "interpreter": {
    "hash": "e7370f93d1d0cde622a1f8e1c04877d8463912d04d973331ad4851f04de6915a"
   }
  }
 },
 "nbformat": 4,
 "nbformat_minor": 5
}
